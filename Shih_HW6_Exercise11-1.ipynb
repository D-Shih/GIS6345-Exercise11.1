{
 "cells": [
  {
   "cell_type": "code",
   "execution_count": 29,
   "metadata": {},
   "outputs": [
    {
     "name": "stdout",
     "output_type": "stream",
     "text": [
      "Number of items in dictionary d from words.txt file: 113809\n"
     ]
    }
   ],
   "source": [
    "fin = open('words.txt')\n",
    "d = dict()\n",
    "counter = 0\n",
    "\n",
    "for line in fin:\n",
    "    word = line.strip()\n",
    "    counter += 1\n",
    "    d[word] = counter\n",
    "\n",
    "print(\"Number of items in dictionary d from words.txt file: \" + str(len(d)))"
   ]
  },
  {
   "cell_type": "code",
   "execution_count": 32,
   "metadata": {},
   "outputs": [
    {
     "name": "stdout",
     "output_type": "stream",
     "text": [
      "Location of the word 'tuna' in dictionary d: 104495\n"
     ]
    }
   ],
   "source": [
    "print(\"Location of the word 'tuna' in dictionary d: \" + str(d['tuna']))"
   ]
  }
 ],
 "metadata": {
  "kernelspec": {
   "display_name": "geo_env",
   "language": "python",
   "name": "geo_env"
  },
  "language_info": {
   "codemirror_mode": {
    "name": "ipython",
    "version": 3
   },
   "file_extension": ".py",
   "mimetype": "text/x-python",
   "name": "python",
   "nbconvert_exporter": "python",
   "pygments_lexer": "ipython3",
   "version": "3.7.8"
  }
 },
 "nbformat": 4,
 "nbformat_minor": 4
}
